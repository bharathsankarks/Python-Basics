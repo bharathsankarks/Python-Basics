{
 "cells": [
  {
   "cell_type": "code",
   "execution_count": 1,
   "id": "59c7fb63-a0dc-48a0-a718-5fe4ef69cc16",
   "metadata": {},
   "outputs": [],
   "source": [
    "x=10\n",
    "y=20"
   ]
  },
  {
   "cell_type": "code",
   "execution_count": 2,
   "id": "af45854f-a347-4378-8db2-b0b7f6398cd3",
   "metadata": {},
   "outputs": [
    {
     "name": "stdout",
     "output_type": "stream",
     "text": [
      "30\n"
     ]
    }
   ],
   "source": [
    "print(x+y)"
   ]
  },
  {
   "cell_type": "code",
   "execution_count": 3,
   "id": "a1573f69-a7fa-4654-ba09-6b59ba4e648a",
   "metadata": {},
   "outputs": [],
   "source": [
    "x=20\n",
    "y=20"
   ]
  },
  {
   "cell_type": "code",
   "execution_count": 4,
   "id": "7d3462a6-9f89-473d-af46-7cca45e9e8c8",
   "metadata": {},
   "outputs": [
    {
     "name": "stdout",
     "output_type": "stream",
     "text": [
      "40\n"
     ]
    }
   ],
   "source": [
    "print(x+y)"
   ]
  },
  {
   "cell_type": "code",
   "execution_count": 5,
   "id": "bb1c62b0-5315-4fed-a2d2-f840c81e796f",
   "metadata": {},
   "outputs": [
    {
     "data": {
      "text/plain": [
       "int"
      ]
     },
     "execution_count": 5,
     "metadata": {},
     "output_type": "execute_result"
    }
   ],
   "source": [
    "x=10\n",
    "type(x)"
   ]
  },
  {
   "cell_type": "code",
   "execution_count": 7,
   "id": "ab701241-ec8c-4880-8e78-25b3a717b72d",
   "metadata": {},
   "outputs": [
    {
     "data": {
      "text/plain": [
       "float"
      ]
     },
     "execution_count": 7,
     "metadata": {},
     "output_type": "execute_result"
    }
   ],
   "source": [
    "x=10.5\n",
    "type(x)"
   ]
  },
  {
   "cell_type": "code",
   "execution_count": 8,
   "id": "950cf6b0-955e-4465-90a5-fd49fb24f111",
   "metadata": {},
   "outputs": [],
   "source": [
    "x=\"bharath\""
   ]
  },
  {
   "cell_type": "code",
   "execution_count": 9,
   "id": "ddc5b9ef-131c-4a12-a444-5390ed6c5678",
   "metadata": {},
   "outputs": [
    {
     "name": "stdout",
     "output_type": "stream",
     "text": [
      "bharath\n"
     ]
    }
   ],
   "source": [
    "print(x)"
   ]
  },
  {
   "cell_type": "code",
   "execution_count": 10,
   "id": "a17a0808-20ab-4d62-806b-d79e49dd64b0",
   "metadata": {},
   "outputs": [],
   "source": [
    "x=10\n",
    "y=20"
   ]
  },
  {
   "cell_type": "code",
   "execution_count": 11,
   "id": "a198aedd-88e4-43a7-b4af-086dd7e74f9b",
   "metadata": {},
   "outputs": [
    {
     "name": "stdout",
     "output_type": "stream",
     "text": [
      "30\n"
     ]
    }
   ],
   "source": [
    "print(x+y)"
   ]
  },
  {
   "cell_type": "code",
   "execution_count": 14,
   "id": "35222325-ccf5-4a16-a5df-0e7116c5fd2e",
   "metadata": {},
   "outputs": [],
   "source": [
    "x=\"bharath\"\n",
    "y=\"sankar\""
   ]
  },
  {
   "cell_type": "code",
   "execution_count": 15,
   "id": "3d3c3cb2-aad5-452d-81a6-4fc60323660a",
   "metadata": {},
   "outputs": [
    {
     "name": "stdout",
     "output_type": "stream",
     "text": [
      "bharathsankar\n"
     ]
    }
   ],
   "source": [
    "print(x+y)"
   ]
  },
  {
   "cell_type": "code",
   "execution_count": 16,
   "id": "bc2b2966-b2fb-4d73-bee6-c7c13931efbd",
   "metadata": {},
   "outputs": [],
   "source": [
    "x=\"bharath\"\n",
    "y=\"sankar\""
   ]
  },
  {
   "cell_type": "code",
   "execution_count": 17,
   "id": "9e0a2180-907d-48c1-860b-f76163584d58",
   "metadata": {},
   "outputs": [
    {
     "name": "stdout",
     "output_type": "stream",
     "text": [
      "bharath sankar\n"
     ]
    }
   ],
   "source": [
    "print(x+\" \"+y)"
   ]
  },
  {
   "cell_type": "code",
   "execution_count": 18,
   "id": "44c3b2a2-d836-4c09-bcd1-3004cc0456c6",
   "metadata": {},
   "outputs": [],
   "source": [
    "x=\"india\"\n",
    "y=\"is\"\n",
    "z=\"my\"\n",
    "a=\"country\""
   ]
  },
  {
   "cell_type": "code",
   "execution_count": 20,
   "id": "c1b3fb81-3be2-4015-b763-afe7acf5c659",
   "metadata": {},
   "outputs": [
    {
     "name": "stdout",
     "output_type": "stream",
     "text": [
      "india is my country\n"
     ]
    }
   ],
   "source": [
    "print(x+\" \"+y+\" \"+z+\" \"+a)"
   ]
  },
  {
   "cell_type": "code",
   "execution_count": null,
   "id": "51ca18ef-4cfb-4bf3-afa2-43168ab8991e",
   "metadata": {},
   "outputs": [],
   "source": []
  }
 ],
 "metadata": {
  "kernelspec": {
   "display_name": "Python 3 (ipykernel)",
   "language": "python",
   "name": "python3"
  },
  "language_info": {
   "codemirror_mode": {
    "name": "ipython",
    "version": 3
   },
   "file_extension": ".py",
   "mimetype": "text/x-python",
   "name": "python",
   "nbconvert_exporter": "python",
   "pygments_lexer": "ipython3",
   "version": "3.9.12"
  }
 },
 "nbformat": 4,
 "nbformat_minor": 5
}
